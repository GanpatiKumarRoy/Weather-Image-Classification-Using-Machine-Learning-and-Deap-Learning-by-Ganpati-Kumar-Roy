{
 "cells": [
  {
   "cell_type": "code",
   "execution_count": 202,
   "id": "peaceful-candidate",
   "metadata": {},
   "outputs": [],
   "source": [
    "import pandas as pd\n",
    "from sklearn import svm\n",
    "from sklearn.model_selection import GridSearchCV\n",
    "import os\n",
    "import matplotlib.pyplot as plt\n",
    "from skimage.transform import resize\n",
    "from skimage.io import imread\n",
    "import numpy as np\n",
    "from sklearn.model_selection import train_test_split\n",
    "from sklearn.metrics import classification_report,accuracy_score,confusion_matrix\n",
    "import pickle\n",
    "import PIL.Image as image\n",
    "import numpy as np\n",
    "from sklearn.linear_model import LogisticRegression\n",
    "import seaborn as sns\n",
    "from sklearn import metrics\n",
    "\n",
    "%matplotlib inline"
   ]
  },
  {
   "cell_type": "markdown",
   "id": "psychological-perth",
   "metadata": {},
   "source": [
    "# Loading Dataset"
   ]
  },
  {
   "cell_type": "code",
   "execution_count": 172,
   "id": "postal-seeking",
   "metadata": {},
   "outputs": [
    {
     "name": "stdout",
     "output_type": "stream",
     "text": [
      "['Cloudy', 'Foggy', 'Rainy', 'Snowy', 'Sunny'] 5\n"
     ]
    }
   ],
   "source": [
    "datadir = 'Weather'\n",
    "class_names = []\n",
    "for i in os.listdir(datadir):\n",
    "    class_names.append(i)\n",
    "num_classes = len(class_names)\n",
    "print(class_names,num_classes)"
   ]
  },
  {
   "cell_type": "code",
   "execution_count": 173,
   "id": "drawn-kinase",
   "metadata": {},
   "outputs": [
    {
     "name": "stdout",
     "output_type": "stream",
     "text": [
      "loaded weather:Cloudy\n",
      "loaded weather:Foggy\n",
      "loaded weather:Rainy\n",
      "loaded weather:Snowy\n",
      "loaded weather:Sunny\n"
     ]
    }
   ],
   "source": [
    "flat_data_arr=[]\n",
    "target_arr=[]\n",
    "for i in class_names:\n",
    "  path=os.path.join(datadir,i)\n",
    "  print(f'loaded weather:{i}')\n",
    "  count =  0\n",
    "  for img in os.listdir(path):\n",
    "    if count == 40:\n",
    "        break\n",
    "    file_path = os.path.join(path,img)\n",
    "    img_array = np.array(image.open(file_path)) /255.0\n",
    "    img_resized=resize(img_array,(150,150,3))\n",
    "    flat_data_arr.append(img_resized.flatten())\n",
    "    target_arr.append(class_names.index(i))\n",
    "    count = count + 1"
   ]
  },
  {
   "cell_type": "code",
   "execution_count": 174,
   "id": "speaking-admission",
   "metadata": {},
   "outputs": [
    {
     "data": {
      "text/html": [
       "<div>\n",
       "<style scoped>\n",
       "    .dataframe tbody tr th:only-of-type {\n",
       "        vertical-align: middle;\n",
       "    }\n",
       "\n",
       "    .dataframe tbody tr th {\n",
       "        vertical-align: top;\n",
       "    }\n",
       "\n",
       "    .dataframe thead th {\n",
       "        text-align: right;\n",
       "    }\n",
       "</style>\n",
       "<table border=\"1\" class=\"dataframe\">\n",
       "  <thead>\n",
       "    <tr style=\"text-align: right;\">\n",
       "      <th></th>\n",
       "      <th>0</th>\n",
       "      <th>1</th>\n",
       "      <th>2</th>\n",
       "      <th>3</th>\n",
       "      <th>4</th>\n",
       "      <th>5</th>\n",
       "      <th>6</th>\n",
       "      <th>7</th>\n",
       "      <th>8</th>\n",
       "      <th>9</th>\n",
       "      <th>...</th>\n",
       "      <th>67491</th>\n",
       "      <th>67492</th>\n",
       "      <th>67493</th>\n",
       "      <th>67494</th>\n",
       "      <th>67495</th>\n",
       "      <th>67496</th>\n",
       "      <th>67497</th>\n",
       "      <th>67498</th>\n",
       "      <th>67499</th>\n",
       "      <th>Target</th>\n",
       "    </tr>\n",
       "  </thead>\n",
       "  <tbody>\n",
       "    <tr>\n",
       "      <th>0</th>\n",
       "      <td>0.774814</td>\n",
       "      <td>0.802735</td>\n",
       "      <td>0.836318</td>\n",
       "      <td>0.755381</td>\n",
       "      <td>0.800518</td>\n",
       "      <td>0.839525</td>\n",
       "      <td>0.747960</td>\n",
       "      <td>0.807493</td>\n",
       "      <td>0.855904</td>\n",
       "      <td>0.754917</td>\n",
       "      <td>...</td>\n",
       "      <td>0.666889</td>\n",
       "      <td>0.666889</td>\n",
       "      <td>0.661084</td>\n",
       "      <td>0.667240</td>\n",
       "      <td>0.667240</td>\n",
       "      <td>0.660893</td>\n",
       "      <td>0.726536</td>\n",
       "      <td>0.726536</td>\n",
       "      <td>0.720188</td>\n",
       "      <td>0</td>\n",
       "    </tr>\n",
       "    <tr>\n",
       "      <th>1</th>\n",
       "      <td>0.997556</td>\n",
       "      <td>0.997556</td>\n",
       "      <td>0.997556</td>\n",
       "      <td>0.999892</td>\n",
       "      <td>0.999892</td>\n",
       "      <td>0.999892</td>\n",
       "      <td>1.000000</td>\n",
       "      <td>1.000000</td>\n",
       "      <td>1.000000</td>\n",
       "      <td>1.000000</td>\n",
       "      <td>...</td>\n",
       "      <td>0.448266</td>\n",
       "      <td>0.447223</td>\n",
       "      <td>0.439380</td>\n",
       "      <td>0.427000</td>\n",
       "      <td>0.423450</td>\n",
       "      <td>0.415672</td>\n",
       "      <td>0.399782</td>\n",
       "      <td>0.391826</td>\n",
       "      <td>0.385329</td>\n",
       "      <td>0</td>\n",
       "    </tr>\n",
       "    <tr>\n",
       "      <th>2</th>\n",
       "      <td>0.724608</td>\n",
       "      <td>0.636762</td>\n",
       "      <td>0.541971</td>\n",
       "      <td>0.675150</td>\n",
       "      <td>0.620287</td>\n",
       "      <td>0.434633</td>\n",
       "      <td>0.605734</td>\n",
       "      <td>0.519621</td>\n",
       "      <td>0.236605</td>\n",
       "      <td>0.627853</td>\n",
       "      <td>...</td>\n",
       "      <td>0.296133</td>\n",
       "      <td>0.319535</td>\n",
       "      <td>0.312374</td>\n",
       "      <td>0.310114</td>\n",
       "      <td>0.320851</td>\n",
       "      <td>0.320917</td>\n",
       "      <td>0.303292</td>\n",
       "      <td>0.305181</td>\n",
       "      <td>0.303464</td>\n",
       "      <td>0</td>\n",
       "    </tr>\n",
       "    <tr>\n",
       "      <th>3</th>\n",
       "      <td>0.942201</td>\n",
       "      <td>0.964084</td>\n",
       "      <td>0.997313</td>\n",
       "      <td>0.943578</td>\n",
       "      <td>0.965461</td>\n",
       "      <td>0.998684</td>\n",
       "      <td>0.943342</td>\n",
       "      <td>0.965840</td>\n",
       "      <td>0.998398</td>\n",
       "      <td>0.941586</td>\n",
       "      <td>...</td>\n",
       "      <td>0.346469</td>\n",
       "      <td>0.335486</td>\n",
       "      <td>0.310940</td>\n",
       "      <td>0.266465</td>\n",
       "      <td>0.228202</td>\n",
       "      <td>0.214838</td>\n",
       "      <td>0.206383</td>\n",
       "      <td>0.186265</td>\n",
       "      <td>0.150993</td>\n",
       "      <td>0</td>\n",
       "    </tr>\n",
       "    <tr>\n",
       "      <th>4</th>\n",
       "      <td>0.852245</td>\n",
       "      <td>0.873736</td>\n",
       "      <td>0.915409</td>\n",
       "      <td>0.858862</td>\n",
       "      <td>0.887785</td>\n",
       "      <td>0.924941</td>\n",
       "      <td>0.867968</td>\n",
       "      <td>0.902810</td>\n",
       "      <td>0.930316</td>\n",
       "      <td>0.876230</td>\n",
       "      <td>...</td>\n",
       "      <td>0.524344</td>\n",
       "      <td>0.538785</td>\n",
       "      <td>0.549356</td>\n",
       "      <td>0.523322</td>\n",
       "      <td>0.533124</td>\n",
       "      <td>0.542929</td>\n",
       "      <td>0.508401</td>\n",
       "      <td>0.512409</td>\n",
       "      <td>0.521052</td>\n",
       "      <td>0</td>\n",
       "    </tr>\n",
       "    <tr>\n",
       "      <th>...</th>\n",
       "      <td>...</td>\n",
       "      <td>...</td>\n",
       "      <td>...</td>\n",
       "      <td>...</td>\n",
       "      <td>...</td>\n",
       "      <td>...</td>\n",
       "      <td>...</td>\n",
       "      <td>...</td>\n",
       "      <td>...</td>\n",
       "      <td>...</td>\n",
       "      <td>...</td>\n",
       "      <td>...</td>\n",
       "      <td>...</td>\n",
       "      <td>...</td>\n",
       "      <td>...</td>\n",
       "      <td>...</td>\n",
       "      <td>...</td>\n",
       "      <td>...</td>\n",
       "      <td>...</td>\n",
       "      <td>...</td>\n",
       "      <td>...</td>\n",
       "    </tr>\n",
       "    <tr>\n",
       "      <th>195</th>\n",
       "      <td>0.307432</td>\n",
       "      <td>0.601550</td>\n",
       "      <td>0.927040</td>\n",
       "      <td>0.309941</td>\n",
       "      <td>0.604059</td>\n",
       "      <td>0.929549</td>\n",
       "      <td>0.313265</td>\n",
       "      <td>0.607684</td>\n",
       "      <td>0.933024</td>\n",
       "      <td>0.303926</td>\n",
       "      <td>...</td>\n",
       "      <td>0.678134</td>\n",
       "      <td>0.382213</td>\n",
       "      <td>0.221783</td>\n",
       "      <td>0.647238</td>\n",
       "      <td>0.350922</td>\n",
       "      <td>0.208052</td>\n",
       "      <td>0.642493</td>\n",
       "      <td>0.346873</td>\n",
       "      <td>0.197987</td>\n",
       "      <td>4</td>\n",
       "    </tr>\n",
       "    <tr>\n",
       "      <th>196</th>\n",
       "      <td>0.153482</td>\n",
       "      <td>0.306423</td>\n",
       "      <td>0.537796</td>\n",
       "      <td>0.154830</td>\n",
       "      <td>0.307771</td>\n",
       "      <td>0.539143</td>\n",
       "      <td>0.157126</td>\n",
       "      <td>0.310067</td>\n",
       "      <td>0.541439</td>\n",
       "      <td>0.162947</td>\n",
       "      <td>...</td>\n",
       "      <td>0.212223</td>\n",
       "      <td>0.276062</td>\n",
       "      <td>0.363358</td>\n",
       "      <td>0.188938</td>\n",
       "      <td>0.375977</td>\n",
       "      <td>0.496846</td>\n",
       "      <td>0.213757</td>\n",
       "      <td>0.402334</td>\n",
       "      <td>0.522705</td>\n",
       "      <td>4</td>\n",
       "    </tr>\n",
       "    <tr>\n",
       "      <th>197</th>\n",
       "      <td>0.143203</td>\n",
       "      <td>0.348923</td>\n",
       "      <td>0.754469</td>\n",
       "      <td>0.140958</td>\n",
       "      <td>0.347935</td>\n",
       "      <td>0.763409</td>\n",
       "      <td>0.141135</td>\n",
       "      <td>0.349489</td>\n",
       "      <td>0.766825</td>\n",
       "      <td>0.146384</td>\n",
       "      <td>...</td>\n",
       "      <td>0.721732</td>\n",
       "      <td>0.735887</td>\n",
       "      <td>0.726174</td>\n",
       "      <td>0.688388</td>\n",
       "      <td>0.702895</td>\n",
       "      <td>0.694533</td>\n",
       "      <td>0.636466</td>\n",
       "      <td>0.655206</td>\n",
       "      <td>0.653799</td>\n",
       "      <td>4</td>\n",
       "    </tr>\n",
       "    <tr>\n",
       "      <th>198</th>\n",
       "      <td>0.461323</td>\n",
       "      <td>0.607778</td>\n",
       "      <td>0.810695</td>\n",
       "      <td>0.453140</td>\n",
       "      <td>0.608426</td>\n",
       "      <td>0.808254</td>\n",
       "      <td>0.451260</td>\n",
       "      <td>0.609391</td>\n",
       "      <td>0.807926</td>\n",
       "      <td>0.457571</td>\n",
       "      <td>...</td>\n",
       "      <td>0.199661</td>\n",
       "      <td>0.273499</td>\n",
       "      <td>0.369744</td>\n",
       "      <td>0.244794</td>\n",
       "      <td>0.288690</td>\n",
       "      <td>0.300853</td>\n",
       "      <td>0.176383</td>\n",
       "      <td>0.220642</td>\n",
       "      <td>0.229549</td>\n",
       "      <td>4</td>\n",
       "    </tr>\n",
       "    <tr>\n",
       "      <th>199</th>\n",
       "      <td>0.017305</td>\n",
       "      <td>0.272363</td>\n",
       "      <td>0.819271</td>\n",
       "      <td>0.009824</td>\n",
       "      <td>0.278632</td>\n",
       "      <td>0.814181</td>\n",
       "      <td>0.000989</td>\n",
       "      <td>0.281874</td>\n",
       "      <td>0.807353</td>\n",
       "      <td>0.001707</td>\n",
       "      <td>...</td>\n",
       "      <td>0.361636</td>\n",
       "      <td>0.240546</td>\n",
       "      <td>0.102725</td>\n",
       "      <td>0.445949</td>\n",
       "      <td>0.328812</td>\n",
       "      <td>0.190996</td>\n",
       "      <td>0.378173</td>\n",
       "      <td>0.263944</td>\n",
       "      <td>0.141059</td>\n",
       "      <td>4</td>\n",
       "    </tr>\n",
       "  </tbody>\n",
       "</table>\n",
       "<p>200 rows × 67501 columns</p>\n",
       "</div>"
      ],
      "text/plain": [
       "            0         1         2         3         4         5         6  \\\n",
       "0    0.774814  0.802735  0.836318  0.755381  0.800518  0.839525  0.747960   \n",
       "1    0.997556  0.997556  0.997556  0.999892  0.999892  0.999892  1.000000   \n",
       "2    0.724608  0.636762  0.541971  0.675150  0.620287  0.434633  0.605734   \n",
       "3    0.942201  0.964084  0.997313  0.943578  0.965461  0.998684  0.943342   \n",
       "4    0.852245  0.873736  0.915409  0.858862  0.887785  0.924941  0.867968   \n",
       "..        ...       ...       ...       ...       ...       ...       ...   \n",
       "195  0.307432  0.601550  0.927040  0.309941  0.604059  0.929549  0.313265   \n",
       "196  0.153482  0.306423  0.537796  0.154830  0.307771  0.539143  0.157126   \n",
       "197  0.143203  0.348923  0.754469  0.140958  0.347935  0.763409  0.141135   \n",
       "198  0.461323  0.607778  0.810695  0.453140  0.608426  0.808254  0.451260   \n",
       "199  0.017305  0.272363  0.819271  0.009824  0.278632  0.814181  0.000989   \n",
       "\n",
       "            7         8         9  ...     67491     67492     67493  \\\n",
       "0    0.807493  0.855904  0.754917  ...  0.666889  0.666889  0.661084   \n",
       "1    1.000000  1.000000  1.000000  ...  0.448266  0.447223  0.439380   \n",
       "2    0.519621  0.236605  0.627853  ...  0.296133  0.319535  0.312374   \n",
       "3    0.965840  0.998398  0.941586  ...  0.346469  0.335486  0.310940   \n",
       "4    0.902810  0.930316  0.876230  ...  0.524344  0.538785  0.549356   \n",
       "..        ...       ...       ...  ...       ...       ...       ...   \n",
       "195  0.607684  0.933024  0.303926  ...  0.678134  0.382213  0.221783   \n",
       "196  0.310067  0.541439  0.162947  ...  0.212223  0.276062  0.363358   \n",
       "197  0.349489  0.766825  0.146384  ...  0.721732  0.735887  0.726174   \n",
       "198  0.609391  0.807926  0.457571  ...  0.199661  0.273499  0.369744   \n",
       "199  0.281874  0.807353  0.001707  ...  0.361636  0.240546  0.102725   \n",
       "\n",
       "        67494     67495     67496     67497     67498     67499  Target  \n",
       "0    0.667240  0.667240  0.660893  0.726536  0.726536  0.720188       0  \n",
       "1    0.427000  0.423450  0.415672  0.399782  0.391826  0.385329       0  \n",
       "2    0.310114  0.320851  0.320917  0.303292  0.305181  0.303464       0  \n",
       "3    0.266465  0.228202  0.214838  0.206383  0.186265  0.150993       0  \n",
       "4    0.523322  0.533124  0.542929  0.508401  0.512409  0.521052       0  \n",
       "..        ...       ...       ...       ...       ...       ...     ...  \n",
       "195  0.647238  0.350922  0.208052  0.642493  0.346873  0.197987       4  \n",
       "196  0.188938  0.375977  0.496846  0.213757  0.402334  0.522705       4  \n",
       "197  0.688388  0.702895  0.694533  0.636466  0.655206  0.653799       4  \n",
       "198  0.244794  0.288690  0.300853  0.176383  0.220642  0.229549       4  \n",
       "199  0.445949  0.328812  0.190996  0.378173  0.263944  0.141059       4  \n",
       "\n",
       "[200 rows x 67501 columns]"
      ]
     },
     "execution_count": 174,
     "metadata": {},
     "output_type": "execute_result"
    }
   ],
   "source": [
    "flat_data=np.array(flat_data_arr)\n",
    "target=np.array(target_arr)\n",
    "df=pd.DataFrame(flat_data)\n",
    "df['Target']=target \n",
    "df"
   ]
  },
  {
   "cell_type": "markdown",
   "id": "noble-fortune",
   "metadata": {},
   "source": [
    "# Training and Testing Data Split"
   ]
  },
  {
   "cell_type": "code",
   "execution_count": 175,
   "id": "eight-bunny",
   "metadata": {},
   "outputs": [],
   "source": [
    "x=df.iloc[:,:-1]\n",
    "y=df.iloc[:,-1]\n",
    "x_train, x_test, y_train, y_test = train_test_split(x,y,test_size=0.20,random_state=77,stratify=y)"
   ]
  },
  {
   "cell_type": "code",
   "execution_count": 176,
   "id": "complete-kidney",
   "metadata": {},
   "outputs": [],
   "source": [
    "from sklearn.neighbors import KNeighborsClassifier\n",
    "knn = OneVsRestClassifier(KNeighborsClassifier())"
   ]
  },
  {
   "cell_type": "code",
   "execution_count": 177,
   "id": "functioning-father",
   "metadata": {},
   "outputs": [
    {
     "data": {
      "text/plain": [
       "OneVsRestClassifier(estimator=KNeighborsClassifier())"
      ]
     },
     "execution_count": 177,
     "metadata": {},
     "output_type": "execute_result"
    }
   ],
   "source": [
    "knn.fit(x_train,y_train)"
   ]
  },
  {
   "cell_type": "code",
   "execution_count": 178,
   "id": "entertaining-remains",
   "metadata": {},
   "outputs": [
    {
     "data": {
      "text/plain": [
       "array([2, 4, 1, 1, 3, 1, 3, 4, 3, 1])"
      ]
     },
     "execution_count": 178,
     "metadata": {},
     "output_type": "execute_result"
    }
   ],
   "source": [
    "knn.predict(x_test[0:10])"
   ]
  },
  {
   "cell_type": "code",
   "execution_count": 179,
   "id": "freelance-thickness",
   "metadata": {},
   "outputs": [
    {
     "name": "stdout",
     "output_type": "stream",
     "text": [
      "(160, 67500)\n",
      "(40, 67500)\n"
     ]
    }
   ],
   "source": [
    "print(x_train.shape)\n",
    "print(x_test.shape)"
   ]
  },
  {
   "cell_type": "code",
   "execution_count": 180,
   "id": "alike-signature",
   "metadata": {},
   "outputs": [
    {
     "name": "stdout",
     "output_type": "stream",
     "text": [
      "(160,)\n",
      "(40,)\n"
     ]
    }
   ],
   "source": [
    "print(y_train.shape)\n",
    "print(y_test.shape)"
   ]
  },
  {
   "cell_type": "code",
   "execution_count": 181,
   "id": "german-wonder",
   "metadata": {},
   "outputs": [
    {
     "name": "stderr",
     "output_type": "stream",
     "text": [
      "C:\\Users\\Ganpati Kumar Roy\\.conda\\envs\\tensorflow\\lib\\site-packages\\sklearn\\linear_model\\_logistic.py:763: ConvergenceWarning: lbfgs failed to converge (status=1):\n",
      "STOP: TOTAL NO. of ITERATIONS REACHED LIMIT.\n",
      "\n",
      "Increase the number of iterations (max_iter) or scale the data as shown in:\n",
      "    https://scikit-learn.org/stable/modules/preprocessing.html\n",
      "Please also refer to the documentation for alternative solver options:\n",
      "    https://scikit-learn.org/stable/modules/linear_model.html#logistic-regression\n",
      "  n_iter_i = _check_optimize_result(\n"
     ]
    },
    {
     "data": {
      "text/plain": [
       "LogisticRegression()"
      ]
     },
     "execution_count": 181,
     "metadata": {},
     "output_type": "execute_result"
    }
   ],
   "source": [
    "logreg = LogisticRegression()\n",
    "logreg.fit(x_train, y_train)"
   ]
  },
  {
   "cell_type": "markdown",
   "id": "female-championship",
   "metadata": {},
   "source": [
    "# Accuracy"
   ]
  },
  {
   "cell_type": "code",
   "execution_count": 182,
   "id": "legal-imperial",
   "metadata": {},
   "outputs": [
    {
     "name": "stdout",
     "output_type": "stream",
     "text": [
      "0.425\n"
     ]
    }
   ],
   "source": [
    "y_pred = logreg.predict(x_test)\n",
    "\n",
    "print(metrics.accuracy_score(y_test, y_pred))"
   ]
  },
  {
   "cell_type": "code",
   "execution_count": 183,
   "id": "spiritual-mason",
   "metadata": {},
   "outputs": [
    {
     "name": "stdout",
     "output_type": "stream",
     "text": [
      "0.45\n"
     ]
    }
   ],
   "source": [
    "knn = KNeighborsClassifier(n_neighbors=5)\n",
    "knn.fit(x_train, y_train)\n",
    "y_pred = knn.predict(x_test)\n",
    "print(metrics.accuracy_score(y_test, y_pred))"
   ]
  },
  {
   "cell_type": "code",
   "execution_count": 184,
   "id": "popular-voluntary",
   "metadata": {},
   "outputs": [
    {
     "name": "stdout",
     "output_type": "stream",
     "text": [
      "0.55\n"
     ]
    }
   ],
   "source": [
    "knn = KNeighborsClassifier(n_neighbors=10)\n",
    "knn.fit(x_train, y_train)\n",
    "y_pred = knn.predict(x_test)\n",
    "print(metrics.accuracy_score(y_test, y_pred))"
   ]
  },
  {
   "cell_type": "code",
   "execution_count": 185,
   "id": "threatened-silence",
   "metadata": {},
   "outputs": [
    {
     "name": "stdout",
     "output_type": "stream",
     "text": [
      "[0.425, 0.4, 0.475, 0.475, 0.45, 0.475, 0.5, 0.425, 0.55, 0.55, 0.525, 0.5, 0.5, 0.5, 0.5, 0.525, 0.525, 0.525, 0.5, 0.5, 0.5, 0.5, 0.5, 0.5, 0.5]\n"
     ]
    }
   ],
   "source": [
    "k_range = range(1, 26)\n",
    "\n",
    "accuracy = []\n",
    "\n",
    "for k in k_range:\n",
    "    knn = KNeighborsClassifier(n_neighbors=k)\n",
    "    knn.fit(x_train, y_train)\n",
    "    y_pred = knn.predict(x_test)\n",
    "    accuracy.append(metrics.accuracy_score(y_test, y_pred))\n",
    "    \n",
    "print(accuracy)"
   ]
  },
  {
   "cell_type": "markdown",
   "id": "elder-tuesday",
   "metadata": {},
   "source": [
    "# Accuracy Graph"
   ]
  },
  {
   "cell_type": "code",
   "execution_count": 203,
   "id": "aquatic-tunisia",
   "metadata": {},
   "outputs": [
    {
     "data": {
      "image/png": "[encoded data removed]",
      "text/plain": [
       "<Figure size 432x288 with 1 Axes>"
      ]
     },
     "metadata": {
      "needs_background": "light"
     },
     "output_type": "display_data"
    }
   ],
   "source": [
    "plt.title('Accuracy Graph')\n",
    "plt.plot(k_range, accuracy)\n",
    "plt.xlabel('Value of K for KNN')\n",
    "plt.ylabel('Accuracy')\n",
    "plt.show()"
   ]
  },
  {
   "cell_type": "code",
   "execution_count": 200,
   "id": "governmental-serum",
   "metadata": {},
   "outputs": [
    {
     "name": "stdout",
     "output_type": "stream",
     "text": [
      "Wall time: 0 ns\n",
      "KNN Accuracy: 0.500\n"
     ]
    }
   ],
   "source": [
    "%time\n",
    "print('KNN Accuracy: %.3f' % metrics.accuracy_score(y_test, y_pred))"
   ]
  },
  {
   "cell_type": "markdown",
   "id": "exposed-method",
   "metadata": {},
   "source": [
    "# Confusion Matrix"
   ]
  },
  {
   "cell_type": "code",
   "execution_count": 201,
   "id": "devoted-belle",
   "metadata": {},
   "outputs": [
    {
     "data": {
      "text/plain": [
       "Text(0.5, 1.0, 'Accuracy Score: 0.5')"
      ]
     },
     "execution_count": 201,
     "metadata": {},
     "output_type": "execute_result"
    },
    {
     "data": {
      "image/png": "[encoded data removed]",
      "text/plain": [
       "<Figure size 648x648 with 2 Axes>"
      ]
     },
     "metadata": {
      "needs_background": "light"
     },
     "output_type": "display_data"
    }
   ],
   "source": [
    "cm = confusion_matrix(y_test,predictions)\n",
    "plt.figure(figsize=(9,9))\n",
    "sns.heatmap(cm,annot=True, fmt='.3f', linewidths=.5, square=True,cmap='Blues_r')\n",
    "plt.ylabel('Actual label')\n",
    "plt.xlabel('Predicted label')\n",
    "all_sample_title = 'Accuracy Score: {0}'.format(accuracy_score(y_test,y_pred))\n",
    "plt.title(all_sample_title,size=5)"
   ]
  },
  {
   "cell_type": "code",
   "execution_count": null,
   "id": "caroline-blank",
   "metadata": {},
   "outputs": [],
   "source": []
  }
 ],
 "metadata": {
  "kernelspec": {
   "display_name": "Python 3",
   "language": "python",
   "name": "python3"
  },
  "language_info": {
   "codemirror_mode": {
    "name": "ipython",
    "version": 3
   },
   "file_extension": ".py",
   "mimetype": "text/x-python",
   "name": "python",
   "nbconvert_exporter": "python",
   "pygments_lexer": "ipython3",
   "version": "3.8.10"
  }
 },
 "nbformat": 4,
 "nbformat_minor": 5
}
